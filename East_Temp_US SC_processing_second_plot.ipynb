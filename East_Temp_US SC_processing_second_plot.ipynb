{
 "cells": [
  {
   "cell_type": "code",
   "execution_count": 4,
   "metadata": {},
   "outputs": [],
   "source": [
    "import pandas as pd\n",
    "import numpy as np\n",
    "import matplotlib.pyplot as plt\n",
    "import seaborn as sns\n",
    "sns.set()"
   ]
  },
  {
   "cell_type": "code",
   "execution_count": 8,
   "metadata": {},
   "outputs": [
    {
     "data": {
      "text/html": [
       "<div>\n",
       "<style scoped>\n",
       "    .dataframe tbody tr th:only-of-type {\n",
       "        vertical-align: middle;\n",
       "    }\n",
       "\n",
       "    .dataframe tbody tr th {\n",
       "        vertical-align: top;\n",
       "    }\n",
       "\n",
       "    .dataframe thead th {\n",
       "        text-align: right;\n",
       "    }\n",
       "</style>\n",
       "<table border=\"1\" class=\"dataframe\">\n",
       "  <thead>\n",
       "    <tr style=\"text-align: right;\">\n",
       "      <th></th>\n",
       "      <th>COMID</th>\n",
       "      <th>Maheu_type</th>\n",
       "      <th>hivar_cool</th>\n",
       "      <th>sta_cold</th>\n",
       "      <th>sta_cool</th>\n",
       "      <th>var_cold</th>\n",
       "      <th>var_cool</th>\n",
       "      <th>var_warm</th>\n",
       "      <th>JulAug_tempC</th>\n",
       "      <th>JulAug_Class</th>\n",
       "    </tr>\n",
       "  </thead>\n",
       "  <tbody>\n",
       "    <tr>\n",
       "      <th>0</th>\n",
       "      <td>179</td>\n",
       "      <td>hivar_cool</td>\n",
       "      <td>0.446</td>\n",
       "      <td>0.114</td>\n",
       "      <td>0.148</td>\n",
       "      <td>0.264</td>\n",
       "      <td>0.016</td>\n",
       "      <td>0.012</td>\n",
       "      <td>17.302362</td>\n",
       "      <td>Cold</td>\n",
       "    </tr>\n",
       "    <tr>\n",
       "      <th>1</th>\n",
       "      <td>181</td>\n",
       "      <td>hivar_cool</td>\n",
       "      <td>0.496</td>\n",
       "      <td>0.096</td>\n",
       "      <td>0.126</td>\n",
       "      <td>0.258</td>\n",
       "      <td>0.008</td>\n",
       "      <td>0.016</td>\n",
       "      <td>18.674075</td>\n",
       "      <td>Cold</td>\n",
       "    </tr>\n",
       "    <tr>\n",
       "      <th>2</th>\n",
       "      <td>183</td>\n",
       "      <td>var_cold</td>\n",
       "      <td>0.396</td>\n",
       "      <td>0.066</td>\n",
       "      <td>0.088</td>\n",
       "      <td>0.436</td>\n",
       "      <td>0.012</td>\n",
       "      <td>0.002</td>\n",
       "      <td>17.373698</td>\n",
       "      <td>Cold</td>\n",
       "    </tr>\n",
       "    <tr>\n",
       "      <th>3</th>\n",
       "      <td>185</td>\n",
       "      <td>var_cold</td>\n",
       "      <td>0.396</td>\n",
       "      <td>0.066</td>\n",
       "      <td>0.088</td>\n",
       "      <td>0.436</td>\n",
       "      <td>0.012</td>\n",
       "      <td>0.002</td>\n",
       "      <td>17.419768</td>\n",
       "      <td>Cold</td>\n",
       "    </tr>\n",
       "    <tr>\n",
       "      <th>4</th>\n",
       "      <td>843</td>\n",
       "      <td>hivar_cool</td>\n",
       "      <td>0.358</td>\n",
       "      <td>0.106</td>\n",
       "      <td>0.172</td>\n",
       "      <td>0.338</td>\n",
       "      <td>0.010</td>\n",
       "      <td>0.016</td>\n",
       "      <td>17.256248</td>\n",
       "      <td>Cold</td>\n",
       "    </tr>\n",
       "  </tbody>\n",
       "</table>\n",
       "</div>"
      ],
      "text/plain": [
       "   COMID  Maheu_type  hivar_cool  sta_cold  sta_cool  var_cold  var_cool  \\\n",
       "0    179  hivar_cool       0.446     0.114     0.148     0.264     0.016   \n",
       "1    181  hivar_cool       0.496     0.096     0.126     0.258     0.008   \n",
       "2    183    var_cold       0.396     0.066     0.088     0.436     0.012   \n",
       "3    185    var_cold       0.396     0.066     0.088     0.436     0.012   \n",
       "4    843  hivar_cool       0.358     0.106     0.172     0.338     0.010   \n",
       "\n",
       "   var_warm  JulAug_tempC JulAug_Class  \n",
       "0     0.012     17.302362         Cold  \n",
       "1     0.016     18.674075         Cold  \n",
       "2     0.002     17.373698         Cold  \n",
       "3     0.002     17.419768         Cold  \n",
       "4     0.016     17.256248         Cold  "
      ]
     },
     "execution_count": 8,
     "metadata": {},
     "output_type": "execute_result"
    }
   ],
   "source": [
    "eas = pd.read_csv('East_temp.csv')\n",
    "\n",
    "eas.head()"
   ]
  },
  {
   "cell_type": "code",
   "execution_count": 9,
   "metadata": {},
   "outputs": [
    {
     "data": {
      "text/plain": [
       "count    679083.000000\n",
       "mean         21.243443\n",
       "std           5.531573\n",
       "min           0.000000\n",
       "25%          18.987740\n",
       "50%          23.044537\n",
       "75%          24.698058\n",
       "max          29.284952\n",
       "Name: JulAug_tempC, dtype: float64"
      ]
     },
     "execution_count": 9,
     "metadata": {},
     "output_type": "execute_result"
    }
   ],
   "source": [
    "eas['JulAug_tempC'].describe()"
   ]
  },
  {
   "cell_type": "code",
   "execution_count": 12,
   "metadata": {},
   "outputs": [],
   "source": [
    "eas['logvar_warm'] = eas['var_warm'].apply(np.log1p)"
   ]
  },
  {
   "cell_type": "code",
   "execution_count": 13,
   "metadata": {},
   "outputs": [
    {
     "data": {
      "text/html": [
       "<div>\n",
       "<style scoped>\n",
       "    .dataframe tbody tr th:only-of-type {\n",
       "        vertical-align: middle;\n",
       "    }\n",
       "\n",
       "    .dataframe tbody tr th {\n",
       "        vertical-align: top;\n",
       "    }\n",
       "\n",
       "    .dataframe thead th {\n",
       "        text-align: right;\n",
       "    }\n",
       "</style>\n",
       "<table border=\"1\" class=\"dataframe\">\n",
       "  <thead>\n",
       "    <tr style=\"text-align: right;\">\n",
       "      <th></th>\n",
       "      <th>COMID</th>\n",
       "      <th>Maheu_type</th>\n",
       "      <th>hivar_cool</th>\n",
       "      <th>sta_cold</th>\n",
       "      <th>sta_cool</th>\n",
       "      <th>var_cold</th>\n",
       "      <th>var_cool</th>\n",
       "      <th>var_warm</th>\n",
       "      <th>JulAug_tempC</th>\n",
       "      <th>JulAug_Class</th>\n",
       "      <th>logJulAug_tempC</th>\n",
       "      <th>logvar_warm</th>\n",
       "    </tr>\n",
       "  </thead>\n",
       "  <tbody>\n",
       "    <tr>\n",
       "      <th>0</th>\n",
       "      <td>179</td>\n",
       "      <td>hivar_cool</td>\n",
       "      <td>0.446</td>\n",
       "      <td>0.114</td>\n",
       "      <td>0.148</td>\n",
       "      <td>0.264</td>\n",
       "      <td>0.016</td>\n",
       "      <td>0.012</td>\n",
       "      <td>17.302362</td>\n",
       "      <td>Cold</td>\n",
       "      <td>2.907030</td>\n",
       "      <td>0.011929</td>\n",
       "    </tr>\n",
       "    <tr>\n",
       "      <th>1</th>\n",
       "      <td>181</td>\n",
       "      <td>hivar_cool</td>\n",
       "      <td>0.496</td>\n",
       "      <td>0.096</td>\n",
       "      <td>0.126</td>\n",
       "      <td>0.258</td>\n",
       "      <td>0.008</td>\n",
       "      <td>0.016</td>\n",
       "      <td>18.674075</td>\n",
       "      <td>Cold</td>\n",
       "      <td>2.979302</td>\n",
       "      <td>0.015873</td>\n",
       "    </tr>\n",
       "    <tr>\n",
       "      <th>2</th>\n",
       "      <td>183</td>\n",
       "      <td>var_cold</td>\n",
       "      <td>0.396</td>\n",
       "      <td>0.066</td>\n",
       "      <td>0.088</td>\n",
       "      <td>0.436</td>\n",
       "      <td>0.012</td>\n",
       "      <td>0.002</td>\n",
       "      <td>17.373698</td>\n",
       "      <td>Cold</td>\n",
       "      <td>2.910920</td>\n",
       "      <td>0.001998</td>\n",
       "    </tr>\n",
       "    <tr>\n",
       "      <th>3</th>\n",
       "      <td>185</td>\n",
       "      <td>var_cold</td>\n",
       "      <td>0.396</td>\n",
       "      <td>0.066</td>\n",
       "      <td>0.088</td>\n",
       "      <td>0.436</td>\n",
       "      <td>0.012</td>\n",
       "      <td>0.002</td>\n",
       "      <td>17.419768</td>\n",
       "      <td>Cold</td>\n",
       "      <td>2.913424</td>\n",
       "      <td>0.001998</td>\n",
       "    </tr>\n",
       "    <tr>\n",
       "      <th>4</th>\n",
       "      <td>843</td>\n",
       "      <td>hivar_cool</td>\n",
       "      <td>0.358</td>\n",
       "      <td>0.106</td>\n",
       "      <td>0.172</td>\n",
       "      <td>0.338</td>\n",
       "      <td>0.010</td>\n",
       "      <td>0.016</td>\n",
       "      <td>17.256248</td>\n",
       "      <td>Cold</td>\n",
       "      <td>2.904507</td>\n",
       "      <td>0.015873</td>\n",
       "    </tr>\n",
       "  </tbody>\n",
       "</table>\n",
       "</div>"
      ],
      "text/plain": [
       "   COMID  Maheu_type  hivar_cool  sta_cold  sta_cool  var_cold  var_cool  \\\n",
       "0    179  hivar_cool       0.446     0.114     0.148     0.264     0.016   \n",
       "1    181  hivar_cool       0.496     0.096     0.126     0.258     0.008   \n",
       "2    183    var_cold       0.396     0.066     0.088     0.436     0.012   \n",
       "3    185    var_cold       0.396     0.066     0.088     0.436     0.012   \n",
       "4    843  hivar_cool       0.358     0.106     0.172     0.338     0.010   \n",
       "\n",
       "   var_warm  JulAug_tempC JulAug_Class  logJulAug_tempC  logvar_warm  \n",
       "0     0.012     17.302362         Cold         2.907030     0.011929  \n",
       "1     0.016     18.674075         Cold         2.979302     0.015873  \n",
       "2     0.002     17.373698         Cold         2.910920     0.001998  \n",
       "3     0.002     17.419768         Cold         2.913424     0.001998  \n",
       "4     0.016     17.256248         Cold         2.904507     0.015873  "
      ]
     },
     "execution_count": 13,
     "metadata": {},
     "output_type": "execute_result"
    }
   ],
   "source": [
    "eas.head()"
   ]
  },
  {
   "cell_type": "code",
   "execution_count": 22,
   "metadata": {},
   "outputs": [
    {
     "data": {
      "text/plain": [
       "<matplotlib.axes._subplots.AxesSubplot at 0x1fa9e8b50f0>"
      ]
     },
     "execution_count": 22,
     "metadata": {},
     "output_type": "execute_result"
    },
    {
     "data": {
      "image/png": "[encoded data removed]",
      "text/plain": [
       "<Figure size 432x288 with 1 Axes>"
      ]
     },
     "metadata": {},
     "output_type": "display_data"
    }
   ],
   "source": [
    "eas.set_index('logvar_warm')['JulAug_tempC'].plot()"
   ]
  },
  {
   "cell_type": "code",
   "execution_count": null,
   "metadata": {},
   "outputs": [],
   "source": []
  },
  {
   "cell_type": "code",
   "execution_count": null,
   "metadata": {},
   "outputs": [],
   "source": []
  }
 ],
 "metadata": {
  "kernelspec": {
   "display_name": "Python 3",
   "language": "python",
   "name": "python3"
  },
  "language_info": {
   "codemirror_mode": {
    "name": "ipython",
    "version": 3
   },
   "file_extension": ".py",
   "mimetype": "text/x-python",
   "name": "python",
   "nbconvert_exporter": "python",
   "pygments_lexer": "ipython3",
   "version": "3.7.1"
  }
 },
 "nbformat": 4,
 "nbformat_minor": 2
}
